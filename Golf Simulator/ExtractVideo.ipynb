{
 "cells": [
  {
   "cell_type": "code",
   "execution_count": 12,
   "id": "b4d3e619-da34-442d-834e-0589fc7c489e",
   "metadata": {},
   "outputs": [],
   "source": [
    "import re\n",
    "import cv2\n",
    "import os\n",
    "\n",
    "def sort_filenames(filenames):\n",
    "    # Define a regex pattern to extract the number after the last underscore and before \".jpg\"\n",
    "    pattern = re.compile(r'_(\\d+)\\.jpg$')\n",
    "    \n",
    "    # Sort filenames based on the extracted number\n",
    "    sorted_files = sorted(filenames, key=lambda x: int(pattern.search(x).group(1)))\n",
    "    return sorted_files"
   ]
  },
  {
   "cell_type": "code",
   "execution_count": 13,
   "id": "bdf43a27-831b-4994-ab3a-cc502c41f815",
   "metadata": {},
   "outputs": [],
   "source": [
    "def images_to_video(image_folder, output_video_path, fps=30):\n",
    "    # Get list of image files in the folder\n",
    "    images = sort_filenames([img for img in os.listdir(image_folder) if img.endswith((\".png\", \".jpg\", \".jpeg\"))])\n",
    "\n",
    "    # Check if there are any images in the folder\n",
    "    if not images:\n",
    "        print(\"No images found in the folder.\")\n",
    "        return\n",
    "\n",
    "    # Read the first image to get dimensions\n",
    "    first_image_path = os.path.join(image_folder, images[0])\n",
    "    frame = cv2.imread(first_image_path)\n",
    "    height, width, layers = frame.shape\n",
    "\n",
    "    # Define video codec and create VideoWriter object\n",
    "    fourcc = cv2.VideoWriter_fourcc(*'mp4v')  # Codec for .mp4\n",
    "    video = cv2.VideoWriter(output_video_path, fourcc, fps, (width, height))\n",
    "\n",
    "    # Loop over images and write them to the video\n",
    "    for image in images:\n",
    "        image_path = os.path.join(image_folder, image)\n",
    "        frame = cv2.imread(image_path)\n",
    "\n",
    "        if frame is None:\n",
    "            print(f\"Could not read {image_path}. Skipping this image.\")\n",
    "            continue\n",
    "\n",
    "        video.write(frame)\n",
    "\n",
    "    # Release the video writer\n",
    "    video.release()\n",
    "    print(f\"Video saved to {output_video_path}\")"
   ]
  },
  {
   "cell_type": "code",
   "execution_count": 19,
   "id": "1664df85-6f8b-4400-bcbd-87aa39c560c6",
   "metadata": {},
   "outputs": [
    {
     "name": "stdout",
     "output_type": "stream",
     "text": [
      "Video saved to RetrievingVideo7.mp4\n"
     ]
    }
   ],
   "source": [
    "# Example usage\n",
    "image_folder = './RetrievingImages7/images'          # Replace with the path to your folder of images\n",
    "output_video_path = 'RetrievingVideo7.mp4'  # Output video file\n",
    "fps = 30  # Frames per second\n",
    "\n",
    "images_to_video(image_folder, output_video_path, fps)"
   ]
  },
  {
   "cell_type": "code",
   "execution_count": null,
   "id": "289bab17-8677-4924-af6e-5b5509989b85",
   "metadata": {},
   "outputs": [],
   "source": []
  }
 ],
 "metadata": {
  "kernelspec": {
   "display_name": "Python 3 (ipykernel)",
   "language": "python",
   "name": "python3"
  },
  "language_info": {
   "codemirror_mode": {
    "name": "ipython",
    "version": 3
   },
   "file_extension": ".py",
   "mimetype": "text/x-python",
   "name": "python",
   "nbconvert_exporter": "python",
   "pygments_lexer": "ipython3",
   "version": "3.12.3"
  }
 },
 "nbformat": 4,
 "nbformat_minor": 5
}
